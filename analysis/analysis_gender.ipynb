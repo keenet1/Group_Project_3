{
 "cells": [
  {
   "cell_type": "markdown",
   "metadata": {},
   "source": [
    "Two sample t-test for lung cancer incidence in the US by gender"
   ]
  },
  {
   "cell_type": "code",
   "execution_count": 22,
   "metadata": {},
   "outputs": [],
   "source": [
    "# Dependencies\n",
    "import requests\n",
    "import scipy.stats as stats\n",
    "from pprint import pprint"
   ]
  },
  {
   "cell_type": "code",
   "execution_count": 23,
   "metadata": {},
   "outputs": [
    {
     "name": "stdout",
     "output_type": "stream",
     "text": [
      "{'DataValue': '57',\n",
      " 'DataValueAlt': '57',\n",
      " 'DataValueType': 'Average Annual Number',\n",
      " 'LocationAbbr': 'DC',\n",
      " 'LocationID': '11',\n",
      " 'Question': 'Cancer of the lung and bronchus, incidence',\n",
      " 'Stratification1': 'White, non-Hispanic',\n",
      " 'StratificationCategory1': 'Race/Ethnicity',\n",
      " 'StratificationCategoryID1': 'RACE',\n",
      " 'StratificationID1': 'WHT',\n",
      " 'YearEnd': '2019',\n",
      " 'YearStart': '2015',\n",
      " 'id': 1}\n"
     ]
    }
   ],
   "source": [
    "# url to our data\n",
    "url = \"http://127.0.0.1:5000/raw-lung-cancer-data\"\n",
    "# Make request and store response\n",
    "response = requests.get(url)\n",
    "# JSON-ify response\n",
    "response_json = response.json()\n",
    "# Print first article\n",
    "pprint(response_json[0])"
   ]
  },
  {
   "cell_type": "code",
   "execution_count": 24,
   "metadata": {},
   "outputs": [
    {
     "name": "stdout",
     "output_type": "stream",
     "text": [
      "[8481.0, 412.0, 1302.0, 1247.0, 1986.0, 1720.0, 158.0, 173.0, 1409.0, 715.0, 6270.0, 4713.0, 3119.0, 2871.0, 2027.0, 468.0, 328.0, 539.0, 2816.0, 481.0, 1583.0, 4865.0, 1190.0, 3988.0, 243.0, 975.0, 2148.0, 1162.0, 8468.0, 2650.0, 489.0, 2672.0, 379.0, 3910.0, 2290.0, 257.0, 3162.0, 5372.0, 612.0, 2664.0, 305.0, 2345.0, 1470.0, 7334.0, 365.0, 1858.0, 1409.0, 606.0, 938.0, 150.0, 1893.0]\n",
      "[1292.0, 201.0, 141.0, 1160.0, 413.0, 2259.0, 1626.0, 2023.0, 8424.0, 269.0, 5290.0, 2573.0, 650.0, 1664.0, 2208.0, 2816.0, 2432.0, 1364.0, 562.0, 2269.0, 1965.0, 465.0, 6901.0, 2951.0, 719.0, 4104.0, 5541.0, 256.0, 151.0, 310.0, 2248.0, 1349.0, 350.0, 3351.0, 373.0, 502.0, 2832.0, 4739.0, 495.0, 2853.0, 1516.0, 495.0, 1884.0, 9193.0, 7291.0, 1891.0, 4434.0, 989.0, 1112.0, 459.0, 3717.0]\n",
      "224257.0\n"
     ]
    }
   ],
   "source": [
    "# obtain the data for the population and two samples\n",
    "\n",
    "female_samples = []\n",
    "male_samples = []\n",
    "\n",
    "# loop though json to get specific data\n",
    "for x in response_json:\n",
    "    if x['LocationAbbr'] == \"US\" and x['Stratification1'] == \"Overall\":\n",
    "        us_overall = float(x['DataValue'])\n",
    "    elif x['LocationAbbr'] != \"US\" and x['Stratification1'] == \"Female\":\n",
    "        female_samples.append(float(x['DataValue']))\n",
    "    elif x['LocationAbbr'] != \"US\" and x['Stratification1'] == \"Male\":\n",
    "        male_samples.append(float(x['DataValue']))\n",
    "\n",
    "print(female_samples)\n",
    "print(male_samples)\n",
    "print(us_overall)\n"
   ]
  },
  {
   "cell_type": "code",
   "execution_count": 25,
   "metadata": {},
   "outputs": [
    {
     "data": {
      "text/plain": [
       "Ttest_indResult(statistic=-0.2810449172608385, pvalue=0.7792577059693152)"
      ]
     },
     "execution_count": 25,
     "metadata": {},
     "output_type": "execute_result"
    }
   ],
   "source": [
    "stats.ttest_ind(female_samples, male_samples, equal_var=False)"
   ]
  },
  {
   "cell_type": "markdown",
   "metadata": {},
   "source": [
    "The p-value (pvalue=0.7792577059693152) is over 0.05. Therefore, the difference between the male and female data samples is not significant.\n",
    "\n",
    "*If a p-value reported from a t test is less than 0.05, then that result is said to be statistically significant. If a p-value is greater than 0.05, then the result is insignificant."
   ]
  }
 ],
 "metadata": {
  "kernelspec": {
   "display_name": "dev",
   "language": "python",
   "name": "python3"
  },
  "language_info": {
   "codemirror_mode": {
    "name": "ipython",
    "version": 3
   },
   "file_extension": ".py",
   "mimetype": "text/x-python",
   "name": "python",
   "nbconvert_exporter": "python",
   "pygments_lexer": "ipython3",
   "version": "3.10.12"
  }
 },
 "nbformat": 4,
 "nbformat_minor": 2
}
